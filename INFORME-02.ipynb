{
 "cells": [
  {
   "cell_type": "code",
   "execution_count": null,
   "metadata": {},
   "outputs": [],
   "source": [
    "pip install tensorflow "
   ]
  },
  {
   "cell_type": "code",
   "execution_count": null,
   "metadata": {},
   "outputs": [],
   "source": [
    "#TensorFlow \n",
    "import tensorflow as tf\n",
    "tf.logging.set_verbosity(tf.logging.ERROR)\n",
    " \n",
    "# NumPy y Matplotlib \n",
    "import numpy as np\n",
    "import matplotlib.pyplot as plt"
   ]
  },
  {
   "cell_type": "code",
   "execution_count": null,
   "metadata": {},
   "outputs": [],
   "source": [
    "# datos \n",
    "monto_invertido = np.array([70, 85, 96, 45, 50, 35],  dtype = float)\n",
    "suscriptores_ganados = np.array([177, 209, 234, 84, 158, 92],  dtype = float)\n",
    " \n",
    "# Imprimimos los datos en texto para verificar \n",
    "for i,c in enumerate(monto_invertido):\n",
    "  print(\"{} Monto Invertido = {} Suscripores Ganados\".format(c, suscriptores_ganados[i]))\n"
   ]
  },
  {
   "cell_type": "code",
   "execution_count": null,
   "metadata": {},
   "outputs": [],
   "source": [
    "# Creamos un gráfico con los datos del cliente \n",
    "plt.scatter(monto_invertido, suscriptores_ganados)\n",
    "plt.xlim(0,105)\n",
    "plt.ylim(0,245)\n",
    "plt.xlabel('Monto Invertido')\n",
    "plt.ylabel('Suscripores Ganados')\n",
    "plt.show()"
   ]
  },
  {
   "cell_type": "code",
   "execution_count": 4,
   "metadata": {},
   "outputs": [
    {
     "ename": "NameError",
     "evalue": "name 'monto_invertido' is not defined",
     "output_type": "error",
     "traceback": [
      "\u001b[1;31m---------------------------------------------------------------------------\u001b[0m",
      "\u001b[1;31mNameError\u001b[0m                                 Traceback (most recent call last)",
      "\u001b[1;32m<ipython-input-4-d0777602bbfc>\u001b[0m in \u001b[0;36m<module>\u001b[1;34m\u001b[0m\n\u001b[0;32m      1\u001b[0m \u001b[1;31m# Separamos los datos, en datos de entrenamiento y de prueba\u001b[0m\u001b[1;33m\u001b[0m\u001b[1;33m\u001b[0m\u001b[1;33m\u001b[0m\u001b[0m\n\u001b[0;32m      2\u001b[0m \u001b[1;32mfrom\u001b[0m \u001b[0msklearn\u001b[0m\u001b[1;33m.\u001b[0m\u001b[0mmodel_selection\u001b[0m \u001b[1;32mimport\u001b[0m \u001b[0mtrain_test_split\u001b[0m\u001b[1;33m\u001b[0m\u001b[1;33m\u001b[0m\u001b[0m\n\u001b[1;32m----> 3\u001b[1;33m X_train, X_test, y_train, y_test = train_test_split(monto_invertido, suscriptores_ganados, random_state = 42, \n\u001b[0m\u001b[0;32m      4\u001b[0m                                                     train_size = 0.8, test_size = 0.2)\n",
      "\u001b[1;31mNameError\u001b[0m: name 'monto_invertido' is not defined"
     ]
    }
   ],
   "source": [
    "# Separamos los datos, en datos de entrenamiento y de prueba \n",
    "from sklearn.model_selection import train_test_split\n",
    "X_train, X_test, y_train, y_test = train_test_split(monto_invertido, suscriptores_ganados, random_state = 42, \n",
    "                                                    train_size = 0.8, test_size = 0.2)"
   ]
  },
  {
   "cell_type": "code",
   "execution_count": null,
   "metadata": {},
   "outputs": [],
   "source": [
    "# Definimos la capa o capa_a \n",
    "capa_a = tf.keras.layers.Dense(units=1, input_shape=[1])"
   ]
  },
  {
   "cell_type": "code",
   "execution_count": null,
   "metadata": {},
   "outputs": [],
   "source": [
    "# Modelo con la capa capa_a \n",
    "modelo = tf.keras.Sequential([capa_a])"
   ]
  },
  {
   "cell_type": "code",
   "execution_count": null,
   "metadata": {},
   "outputs": [],
   "source": [
    "# Ejemplo de capas definidas dentro de la definición del modelo \n",
    "modelo = tf.keras.Sequential([\n",
    "  tf.keras.layers.Dense(units=1, input_shape=[1])\n",
    "])"
   ]
  },
  {
   "cell_type": "code",
   "execution_count": null,
   "metadata": {},
   "outputs": [],
   "source": [
    "# Compilamos el modelo \n",
    "modelo.compile(loss='mean_squared_error',\n",
    "              optimizer=tf.keras.optimizers.Adam(0.1))\n"
   ]
  },
  {
   "cell_type": "code",
   "execution_count": null,
   "metadata": {},
   "outputs": [],
   "source": [
    "# Entrenamos el modelo \n",
    "entrenar_modelo = modelo.fit(X_train, y_train, epochs = 1000, verbose = False)\n",
    "print(\"Entrenamiento Terminado.\")"
   ]
  },
  {
   "cell_type": "code",
   "execution_count": null,
   "metadata": {},
   "outputs": [],
   "source": [
    "# Creamos un gráfico para mostrar estadísticas del entrenamiento \n",
    "import matplotlib.pyplot as plt\n",
    "plt.xlabel('Época')\n",
    "plt.ylabel(\"Magnitud de Pérdida\")\n",
    "plt.plot(entrenar_modelo.history['loss'])"
   ]
  },
  {
   "cell_type": "code",
   "execution_count": null,
   "metadata": {},
   "outputs": [],
   "source": [
    "# Predicción usando el modelo \n",
    "print(modelo.predict([80.0])) "
   ]
  },
  {
   "cell_type": "code",
   "execution_count": null,
   "metadata": {},
   "outputs": [],
   "source": [
    "# Predicción de los puntos de datos de prueba \n",
    "y_pred = modelo.predict(X_test)\n",
    "print('Valores Pedecidos')\n",
    "print(y_test,'   ',y_pred.reshape(1,-1)) \n",
    " \n",
    "# Obtenemos \n",
    "Valores Pedecidos\n",
    "[177. 209.]     [[174.39508 210.38962]]"
   ]
  },
  {
   "cell_type": "code",
   "execution_count": null,
   "metadata": {},
   "outputs": [],
   "source": [
    "# Verificamos la precisión del modelo \n",
    "from sklearn.metrics import r2_score\n",
    "r2_score(y_test, y_pred) "
   ]
  },
  {
   "cell_type": "code",
   "execution_count": null,
   "metadata": {},
   "outputs": [],
   "source": []
  },
  {
   "cell_type": "code",
   "execution_count": null,
   "metadata": {},
   "outputs": [],
   "source": []
  }
 ],
 "metadata": {
  "kernelspec": {
   "display_name": "Python 3",
   "language": "python",
   "name": "python3"
  },
  "language_info": {
   "codemirror_mode": {
    "name": "ipython",
    "version": 3
   },
   "file_extension": ".py",
   "mimetype": "text/x-python",
   "name": "python",
   "nbconvert_exporter": "python",
   "pygments_lexer": "ipython3",
   "version": "3.8.5"
  }
 },
 "nbformat": 4,
 "nbformat_minor": 4
}
